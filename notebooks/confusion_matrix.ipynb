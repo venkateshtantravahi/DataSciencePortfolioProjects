{
  "nbformat": 4,
  "nbformat_minor": 0,
  "metadata": {
    "colab": {
      "name": "Confusion_matrix.ipynb",
      "provenance": [],
      "collapsed_sections": [],
      "authorship_tag": "ABX9TyMDLFAVNHGDEZh1N0Fr0hp6",
      "include_colab_link": true
    },
    "kernelspec": {
      "name": "python3",
      "display_name": "Python 3"
    },
    "language_info": {
      "name": "python"
    }
  },
  "cells": [
    {
      "cell_type": "markdown",
      "metadata": {
        "id": "view-in-github",
        "colab_type": "text"
      },
      "source": [
        "<a href=\"https://colab.research.google.com/gist/venkateshtantravahi/07f286a4d0886975ce1eca76b60dff50/confusion_matrix.ipynb\" target=\"_parent\"><img src=\"https://colab.research.google.com/assets/colab-badge.svg\" alt=\"Open In Colab\"/></a>"
      ]
    },
    {
      "cell_type": "code",
      "execution_count": 6,
      "metadata": {
        "colab": {
          "base_uri": "https://localhost:8080/"
        },
        "id": "4SeQ1wvLX-rw",
        "outputId": "e7a3b587-c031-4139-d3f9-857baea7d43e"
      },
      "outputs": [
        {
          "output_type": "stream",
          "name": "stdout",
          "text": [
            "Confusion matrix : \n",
            " [[4 1]\n",
            " [1 4]]\n",
            "Out values : \n",
            " 4 1 1 4\n",
            "Classification report : \n",
            "               precision    recall  f1-score   support\n",
            "\n",
            "           1       0.80      0.80      0.80         5\n",
            "           0       0.80      0.80      0.80         5\n",
            "\n",
            "    accuracy                           0.80        10\n",
            "   macro avg       0.80      0.80      0.80        10\n",
            "weighted avg       0.80      0.80      0.80        10\n",
            "\n"
          ]
        }
      ],
      "source": [
        "# Confusion Matrix in sklearn\n",
        "from sklearn.metrics import confusion_matrix\n",
        "from sklearn.metrics import classification_report\n",
        "\n",
        "# actual values\n",
        "actual_values = [0,1,0,0,1,1,0,1,1,0]\n",
        "# predicted values\n",
        "predicted_values = [1,1,0,0,1,1,0,1,0,0]\n",
        "\n",
        "# confusion matrix\n",
        "matrix = confusion_matrix(actual_values,predicted_values, labels=[1,0])\n",
        "print('Confusion matrix : \\n',matrix)\n",
        "\n",
        "# Output Values from matrix\n",
        "tp, fn, fp, tn = confusion_matrix(actual_values,predicted_values,labels=[1,0]).reshape(-1)\n",
        "print('Out values : \\n', tp, fn, fp, tn)\n",
        "\n",
        "# classification report metrics for precision, recall f1-score and accuracy\n",
        "matrix = classification_report(actual_values,predicted_values,labels=[1,0])\n",
        "print('Classification report : \\n',matrix)"
      ]
    }
  ]
}