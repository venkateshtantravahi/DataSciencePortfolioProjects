{
  "nbformat": 4,
  "nbformat_minor": 0,
  "metadata": {
    "colab": {
      "provenance": []
    },
    "kernelspec": {
      "name": "python3",
      "display_name": "Python 3"
    },
    "language_info": {
      "name": "python"
    },
    "gpuClass": "standard"
  },
  "cells": [
    {
      "cell_type": "markdown",
      "source": [
        "<h1><center> Brain Stroke Classification </center></h1>"
      ],
      "metadata": {
        "id": "Po0zB-JCz3f5"
      }
    },
    {
      "cell_type": "markdown",
      "source": [
        "### **Problem Statement:**\n",
        "Predict whether the given observation has brain stroke or not based on various features of that observation.\n",
        "\n",
        "### **About Dataset**\n",
        "The dataset used here is open-sourced data for public usage got from kaggle. You can explore [here](https://www.kaggle.com/datasets/zzettrkalpakbal/full-filled-brain-stroke-dataset)\n",
        "\n",
        "### Features Information\n",
        "1) gender: \"Male\", \"Female\" or \"Other\" \\\n",
        "2) age: age of the patient \\\n",
        "3) hypertension: 0 if the patient doesn't have hypertension, 1 if the patient has hypertension \\\n",
        "4) heartdisease: 0 if the patient doesn't have any heart diseases, 1 if the patient has a heart disease \\\n",
        "5) evermarried: \"No\" or \"Yes\" \\\n",
        "6) worktype: \"children\", \"Govtjov\", \"Neverworked\", \"Private\" or \"Self-employed\" 7) Residencetype: \"Rural\" or \"Urban\" \\\n",
        "8) avgglucoselevel: average glucose level in blood \\\n",
        "9) bmi: body mass index \\\n",
        "10) smoking_status: \"formerly smoked\", \"never smoked\", \"smokes\" or \"Unknown\"* \\\n",
        "\n",
        "### Target Information\n",
        "11) stroke: 1 if the patient had a stroke or 0 if not\n",
        "\n"
      ],
      "metadata": {
        "id": "chzl7ejS1V79"
      }
    },
    {
      "cell_type": "markdown",
      "source": [
        "<h2><center> Importing Libraries and Loading Data </center></h2>"
      ],
      "metadata": {
        "id": "b7CS6BkVC35v"
      }
    },
    {
      "cell_type": "code",
      "execution_count": null,
      "metadata": {
        "id": "-mXuCR47zr_3"
      },
      "outputs": [],
      "source": [
        "import numpy as np #numerical python to work with  array maths\n",
        "import pandas as pd #data manipulations and analysis lib\n",
        "import os #os dependable functions\n",
        "import matplotlib.pyplot as plt #data viz\n",
        "import seaborn as sns #data viz\n",
        "from collections import Counter #containers to store data\n",
        "import missingno as mno #missing data exploration\n",
        "\n",
        "#to ignore warnings from any libs\n",
        "import warnings\n",
        "warnings.filterwarnings(\"ignore\")\n",
        "\n",
        "#ML related imports from scikit-learn\n",
        "from sklearn.model_selection import train_test_split, RandomizedSearchCV\n",
        "from sklearn.tree import DecisionTreeClassifier\n",
        "from sklearn.metrics import accuracy_score, precision_score, recall_score, f1_score, confusion_matrix, classification_report\n",
        "from sklearn.ensemble import RandomForestClassifier\n",
        "from imblearn.under_sampling import RandomUnderSampler"
      ]
    },
    {
      "cell_type": "code",
      "source": [
        "#loading dataset using kaggle api\n",
        "!pip install kaggle\n",
        "! mkdir ~/.kaggle /content/full-filled-brain-stroke-dataset\n",
        "! cp kaggle.json ~/.kaggle/\n",
        "! chmod 600 ~/.kaggle/kaggle.json\n",
        "! kaggle datasets download -d zzettrkalpakbal/full-filled-brain-stroke-dataset\n",
        "! unzip /content/full-filled-brain-stroke-dataset.zip -d /content/full-filled-brain-stroke-dataset/"
      ],
      "metadata": {
        "colab": {
          "base_uri": "https://localhost:8080/"
        },
        "id": "o97V_XP9F2dM",
        "outputId": "b9d8a560-cb82-4ce2-957b-ca89a12a247a"
      },
      "execution_count": null,
      "outputs": [
        {
          "output_type": "stream",
          "name": "stdout",
          "text": [
            "Looking in indexes: https://pypi.org/simple, https://us-python.pkg.dev/colab-wheels/public/simple/\n",
            "Requirement already satisfied: kaggle in /usr/local/lib/python3.7/dist-packages (1.5.12)\n",
            "Requirement already satisfied: tqdm in /usr/local/lib/python3.7/dist-packages (from kaggle) (4.64.0)\n",
            "Requirement already satisfied: python-dateutil in /usr/local/lib/python3.7/dist-packages (from kaggle) (2.8.2)\n",
            "Requirement already satisfied: requests in /usr/local/lib/python3.7/dist-packages (from kaggle) (2.23.0)\n",
            "Requirement already satisfied: python-slugify in /usr/local/lib/python3.7/dist-packages (from kaggle) (6.1.2)\n",
            "Requirement already satisfied: certifi in /usr/local/lib/python3.7/dist-packages (from kaggle) (2022.6.15)\n",
            "Requirement already satisfied: urllib3 in /usr/local/lib/python3.7/dist-packages (from kaggle) (1.24.3)\n",
            "Requirement already satisfied: six>=1.10 in /usr/local/lib/python3.7/dist-packages (from kaggle) (1.15.0)\n",
            "Requirement already satisfied: text-unidecode>=1.3 in /usr/local/lib/python3.7/dist-packages (from python-slugify->kaggle) (1.3)\n",
            "Requirement already satisfied: idna<3,>=2.5 in /usr/local/lib/python3.7/dist-packages (from requests->kaggle) (2.10)\n",
            "Requirement already satisfied: chardet<4,>=3.0.2 in /usr/local/lib/python3.7/dist-packages (from requests->kaggle) (3.0.4)\n",
            "Downloading full-filled-brain-stroke-dataset.zip to /content\n",
            "  0% 0.00/52.1k [00:00<?, ?B/s]\n",
            "100% 52.1k/52.1k [00:00<00:00, 24.3MB/s]\n",
            "Archive:  /content/full-filled-brain-stroke-dataset.zip\n",
            "  inflating: /content/full-filled-brain-stroke-dataset/full_data.csv  \n",
            "  inflating: /content/full-filled-brain-stroke-dataset/full_filled_stroke_data (1).csv  \n"
          ]
        }
      ]
    },
    {
      "cell_type": "code",
      "source": [
        "#read data from csv\n",
        "data = pd.read_csv(\"/content/full-filled-brain-stroke-dataset/full_data.csv\")\n",
        "data.head()"
      ],
      "metadata": {
        "colab": {
          "base_uri": "https://localhost:8080/",
          "height": 287
        },
        "id": "UtTCoGZ6H-gV",
        "outputId": "52296630-fba4-4fe4-d09e-e6ee8f0e6dee"
      },
      "execution_count": null,
      "outputs": [
        {
          "output_type": "execute_result",
          "data": {
            "text/plain": [
              "   gender   age  hypertension  heart_disease ever_married      work_type  \\\n",
              "0    Male  67.0             0              1          Yes        Private   \n",
              "1    Male  80.0             0              1          Yes        Private   \n",
              "2  Female  49.0             0              0          Yes        Private   \n",
              "3  Female  79.0             1              0          Yes  Self-employed   \n",
              "4    Male  81.0             0              0          Yes        Private   \n",
              "\n",
              "  Residence_type  avg_glucose_level   bmi   smoking_status  stroke  \n",
              "0          Urban             228.69  36.6  formerly smoked       1  \n",
              "1          Rural             105.92  32.5     never smoked       1  \n",
              "2          Urban             171.23  34.4           smokes       1  \n",
              "3          Rural             174.12  24.0     never smoked       1  \n",
              "4          Urban             186.21  29.0  formerly smoked       1  "
            ],
            "text/html": [
              "\n",
              "  <div id=\"df-aec88e1a-2be2-42ed-b7f3-8735de57ba4a\">\n",
              "    <div class=\"colab-df-container\">\n",
              "      <div>\n",
              "<style scoped>\n",
              "    .dataframe tbody tr th:only-of-type {\n",
              "        vertical-align: middle;\n",
              "    }\n",
              "\n",
              "    .dataframe tbody tr th {\n",
              "        vertical-align: top;\n",
              "    }\n",
              "\n",
              "    .dataframe thead th {\n",
              "        text-align: right;\n",
              "    }\n",
              "</style>\n",
              "<table border=\"1\" class=\"dataframe\">\n",
              "  <thead>\n",
              "    <tr style=\"text-align: right;\">\n",
              "      <th></th>\n",
              "      <th>gender</th>\n",
              "      <th>age</th>\n",
              "      <th>hypertension</th>\n",
              "      <th>heart_disease</th>\n",
              "      <th>ever_married</th>\n",
              "      <th>work_type</th>\n",
              "      <th>Residence_type</th>\n",
              "      <th>avg_glucose_level</th>\n",
              "      <th>bmi</th>\n",
              "      <th>smoking_status</th>\n",
              "      <th>stroke</th>\n",
              "    </tr>\n",
              "  </thead>\n",
              "  <tbody>\n",
              "    <tr>\n",
              "      <th>0</th>\n",
              "      <td>Male</td>\n",
              "      <td>67.0</td>\n",
              "      <td>0</td>\n",
              "      <td>1</td>\n",
              "      <td>Yes</td>\n",
              "      <td>Private</td>\n",
              "      <td>Urban</td>\n",
              "      <td>228.69</td>\n",
              "      <td>36.6</td>\n",
              "      <td>formerly smoked</td>\n",
              "      <td>1</td>\n",
              "    </tr>\n",
              "    <tr>\n",
              "      <th>1</th>\n",
              "      <td>Male</td>\n",
              "      <td>80.0</td>\n",
              "      <td>0</td>\n",
              "      <td>1</td>\n",
              "      <td>Yes</td>\n",
              "      <td>Private</td>\n",
              "      <td>Rural</td>\n",
              "      <td>105.92</td>\n",
              "      <td>32.5</td>\n",
              "      <td>never smoked</td>\n",
              "      <td>1</td>\n",
              "    </tr>\n",
              "    <tr>\n",
              "      <th>2</th>\n",
              "      <td>Female</td>\n",
              "      <td>49.0</td>\n",
              "      <td>0</td>\n",
              "      <td>0</td>\n",
              "      <td>Yes</td>\n",
              "      <td>Private</td>\n",
              "      <td>Urban</td>\n",
              "      <td>171.23</td>\n",
              "      <td>34.4</td>\n",
              "      <td>smokes</td>\n",
              "      <td>1</td>\n",
              "    </tr>\n",
              "    <tr>\n",
              "      <th>3</th>\n",
              "      <td>Female</td>\n",
              "      <td>79.0</td>\n",
              "      <td>1</td>\n",
              "      <td>0</td>\n",
              "      <td>Yes</td>\n",
              "      <td>Self-employed</td>\n",
              "      <td>Rural</td>\n",
              "      <td>174.12</td>\n",
              "      <td>24.0</td>\n",
              "      <td>never smoked</td>\n",
              "      <td>1</td>\n",
              "    </tr>\n",
              "    <tr>\n",
              "      <th>4</th>\n",
              "      <td>Male</td>\n",
              "      <td>81.0</td>\n",
              "      <td>0</td>\n",
              "      <td>0</td>\n",
              "      <td>Yes</td>\n",
              "      <td>Private</td>\n",
              "      <td>Urban</td>\n",
              "      <td>186.21</td>\n",
              "      <td>29.0</td>\n",
              "      <td>formerly smoked</td>\n",
              "      <td>1</td>\n",
              "    </tr>\n",
              "  </tbody>\n",
              "</table>\n",
              "</div>\n",
              "      <button class=\"colab-df-convert\" onclick=\"convertToInteractive('df-aec88e1a-2be2-42ed-b7f3-8735de57ba4a')\"\n",
              "              title=\"Convert this dataframe to an interactive table.\"\n",
              "              style=\"display:none;\">\n",
              "        \n",
              "  <svg xmlns=\"http://www.w3.org/2000/svg\" height=\"24px\"viewBox=\"0 0 24 24\"\n",
              "       width=\"24px\">\n",
              "    <path d=\"M0 0h24v24H0V0z\" fill=\"none\"/>\n",
              "    <path d=\"M18.56 5.44l.94 2.06.94-2.06 2.06-.94-2.06-.94-.94-2.06-.94 2.06-2.06.94zm-11 1L8.5 8.5l.94-2.06 2.06-.94-2.06-.94L8.5 2.5l-.94 2.06-2.06.94zm10 10l.94 2.06.94-2.06 2.06-.94-2.06-.94-.94-2.06-.94 2.06-2.06.94z\"/><path d=\"M17.41 7.96l-1.37-1.37c-.4-.4-.92-.59-1.43-.59-.52 0-1.04.2-1.43.59L10.3 9.45l-7.72 7.72c-.78.78-.78 2.05 0 2.83L4 21.41c.39.39.9.59 1.41.59.51 0 1.02-.2 1.41-.59l7.78-7.78 2.81-2.81c.8-.78.8-2.07 0-2.86zM5.41 20L4 18.59l7.72-7.72 1.47 1.35L5.41 20z\"/>\n",
              "  </svg>\n",
              "      </button>\n",
              "      \n",
              "  <style>\n",
              "    .colab-df-container {\n",
              "      display:flex;\n",
              "      flex-wrap:wrap;\n",
              "      gap: 12px;\n",
              "    }\n",
              "\n",
              "    .colab-df-convert {\n",
              "      background-color: #E8F0FE;\n",
              "      border: none;\n",
              "      border-radius: 50%;\n",
              "      cursor: pointer;\n",
              "      display: none;\n",
              "      fill: #1967D2;\n",
              "      height: 32px;\n",
              "      padding: 0 0 0 0;\n",
              "      width: 32px;\n",
              "    }\n",
              "\n",
              "    .colab-df-convert:hover {\n",
              "      background-color: #E2EBFA;\n",
              "      box-shadow: 0px 1px 2px rgba(60, 64, 67, 0.3), 0px 1px 3px 1px rgba(60, 64, 67, 0.15);\n",
              "      fill: #174EA6;\n",
              "    }\n",
              "\n",
              "    [theme=dark] .colab-df-convert {\n",
              "      background-color: #3B4455;\n",
              "      fill: #D2E3FC;\n",
              "    }\n",
              "\n",
              "    [theme=dark] .colab-df-convert:hover {\n",
              "      background-color: #434B5C;\n",
              "      box-shadow: 0px 1px 3px 1px rgba(0, 0, 0, 0.15);\n",
              "      filter: drop-shadow(0px 1px 2px rgba(0, 0, 0, 0.3));\n",
              "      fill: #FFFFFF;\n",
              "    }\n",
              "  </style>\n",
              "\n",
              "      <script>\n",
              "        const buttonEl =\n",
              "          document.querySelector('#df-aec88e1a-2be2-42ed-b7f3-8735de57ba4a button.colab-df-convert');\n",
              "        buttonEl.style.display =\n",
              "          google.colab.kernel.accessAllowed ? 'block' : 'none';\n",
              "\n",
              "        async function convertToInteractive(key) {\n",
              "          const element = document.querySelector('#df-aec88e1a-2be2-42ed-b7f3-8735de57ba4a');\n",
              "          const dataTable =\n",
              "            await google.colab.kernel.invokeFunction('convertToInteractive',\n",
              "                                                     [key], {});\n",
              "          if (!dataTable) return;\n",
              "\n",
              "          const docLinkHtml = 'Like what you see? Visit the ' +\n",
              "            '<a target=\"_blank\" href=https://colab.research.google.com/notebooks/data_table.ipynb>data table notebook</a>'\n",
              "            + ' to learn more about interactive tables.';\n",
              "          element.innerHTML = '';\n",
              "          dataTable['output_type'] = 'display_data';\n",
              "          await google.colab.output.renderOutput(dataTable, element);\n",
              "          const docLink = document.createElement('div');\n",
              "          docLink.innerHTML = docLinkHtml;\n",
              "          element.appendChild(docLink);\n",
              "        }\n",
              "      </script>\n",
              "    </div>\n",
              "  </div>\n",
              "  "
            ]
          },
          "metadata": {},
          "execution_count": 47
        }
      ]
    },
    {
      "cell_type": "markdown",
      "source": [
        "# Data Exploration"
      ],
      "metadata": {
        "id": "MnEyVp3DJaZH"
      }
    },
    {
      "cell_type": "code",
      "source": [
        "#let's explore all about dataset attributes\n",
        "data.info()"
      ],
      "metadata": {
        "colab": {
          "base_uri": "https://localhost:8080/"
        },
        "id": "dPi2aGJHJT8W",
        "outputId": "43803a9c-bd2a-43a4-f5d5-c8ae3d76084d"
      },
      "execution_count": null,
      "outputs": [
        {
          "output_type": "stream",
          "name": "stdout",
          "text": [
            "<class 'pandas.core.frame.DataFrame'>\n",
            "RangeIndex: 4981 entries, 0 to 4980\n",
            "Data columns (total 11 columns):\n",
            " #   Column             Non-Null Count  Dtype  \n",
            "---  ------             --------------  -----  \n",
            " 0   gender             4981 non-null   object \n",
            " 1   age                4981 non-null   float64\n",
            " 2   hypertension       4981 non-null   int64  \n",
            " 3   heart_disease      4981 non-null   int64  \n",
            " 4   ever_married       4981 non-null   object \n",
            " 5   work_type          4981 non-null   object \n",
            " 6   Residence_type     4981 non-null   object \n",
            " 7   avg_glucose_level  4981 non-null   float64\n",
            " 8   bmi                4981 non-null   float64\n",
            " 9   smoking_status     4981 non-null   object \n",
            " 10  stroke             4981 non-null   int64  \n",
            "dtypes: float64(3), int64(3), object(5)\n",
            "memory usage: 428.2+ KB\n"
          ]
        }
      ]
    },
    {
      "cell_type": "code",
      "source": [
        "#basic statistics of data (includes only numerical columns from dataset)\n",
        "data.describe()"
      ],
      "metadata": {
        "colab": {
          "base_uri": "https://localhost:8080/",
          "height": 300
        },
        "id": "KXd2Em8RJmZl",
        "outputId": "ae6afd09-b930-4522-accb-e58be8ad7ce0"
      },
      "execution_count": null,
      "outputs": [
        {
          "output_type": "execute_result",
          "data": {
            "text/plain": [
              "               age  hypertension  heart_disease  avg_glucose_level  \\\n",
              "count  4981.000000   4981.000000    4981.000000        4981.000000   \n",
              "mean     43.419859      0.096165       0.055210         105.943562   \n",
              "std      22.662755      0.294848       0.228412          45.075373   \n",
              "min       0.080000      0.000000       0.000000          55.120000   \n",
              "25%      25.000000      0.000000       0.000000          77.230000   \n",
              "50%      45.000000      0.000000       0.000000          91.850000   \n",
              "75%      61.000000      0.000000       0.000000         113.860000   \n",
              "max      82.000000      1.000000       1.000000         271.740000   \n",
              "\n",
              "               bmi       stroke  \n",
              "count  4981.000000  4981.000000  \n",
              "mean     28.498173     0.049789  \n",
              "std       6.790464     0.217531  \n",
              "min      14.000000     0.000000  \n",
              "25%      23.700000     0.000000  \n",
              "50%      28.100000     0.000000  \n",
              "75%      32.600000     0.000000  \n",
              "max      48.900000     1.000000  "
            ],
            "text/html": [
              "\n",
              "  <div id=\"df-c805110d-466f-4f9d-94c1-1dd9e4a07e97\">\n",
              "    <div class=\"colab-df-container\">\n",
              "      <div>\n",
              "<style scoped>\n",
              "    .dataframe tbody tr th:only-of-type {\n",
              "        vertical-align: middle;\n",
              "    }\n",
              "\n",
              "    .dataframe tbody tr th {\n",
              "        vertical-align: top;\n",
              "    }\n",
              "\n",
              "    .dataframe thead th {\n",
              "        text-align: right;\n",
              "    }\n",
              "</style>\n",
              "<table border=\"1\" class=\"dataframe\">\n",
              "  <thead>\n",
              "    <tr style=\"text-align: right;\">\n",
              "      <th></th>\n",
              "      <th>age</th>\n",
              "      <th>hypertension</th>\n",
              "      <th>heart_disease</th>\n",
              "      <th>avg_glucose_level</th>\n",
              "      <th>bmi</th>\n",
              "      <th>stroke</th>\n",
              "    </tr>\n",
              "  </thead>\n",
              "  <tbody>\n",
              "    <tr>\n",
              "      <th>count</th>\n",
              "      <td>4981.000000</td>\n",
              "      <td>4981.000000</td>\n",
              "      <td>4981.000000</td>\n",
              "      <td>4981.000000</td>\n",
              "      <td>4981.000000</td>\n",
              "      <td>4981.000000</td>\n",
              "    </tr>\n",
              "    <tr>\n",
              "      <th>mean</th>\n",
              "      <td>43.419859</td>\n",
              "      <td>0.096165</td>\n",
              "      <td>0.055210</td>\n",
              "      <td>105.943562</td>\n",
              "      <td>28.498173</td>\n",
              "      <td>0.049789</td>\n",
              "    </tr>\n",
              "    <tr>\n",
              "      <th>std</th>\n",
              "      <td>22.662755</td>\n",
              "      <td>0.294848</td>\n",
              "      <td>0.228412</td>\n",
              "      <td>45.075373</td>\n",
              "      <td>6.790464</td>\n",
              "      <td>0.217531</td>\n",
              "    </tr>\n",
              "    <tr>\n",
              "      <th>min</th>\n",
              "      <td>0.080000</td>\n",
              "      <td>0.000000</td>\n",
              "      <td>0.000000</td>\n",
              "      <td>55.120000</td>\n",
              "      <td>14.000000</td>\n",
              "      <td>0.000000</td>\n",
              "    </tr>\n",
              "    <tr>\n",
              "      <th>25%</th>\n",
              "      <td>25.000000</td>\n",
              "      <td>0.000000</td>\n",
              "      <td>0.000000</td>\n",
              "      <td>77.230000</td>\n",
              "      <td>23.700000</td>\n",
              "      <td>0.000000</td>\n",
              "    </tr>\n",
              "    <tr>\n",
              "      <th>50%</th>\n",
              "      <td>45.000000</td>\n",
              "      <td>0.000000</td>\n",
              "      <td>0.000000</td>\n",
              "      <td>91.850000</td>\n",
              "      <td>28.100000</td>\n",
              "      <td>0.000000</td>\n",
              "    </tr>\n",
              "    <tr>\n",
              "      <th>75%</th>\n",
              "      <td>61.000000</td>\n",
              "      <td>0.000000</td>\n",
              "      <td>0.000000</td>\n",
              "      <td>113.860000</td>\n",
              "      <td>32.600000</td>\n",
              "      <td>0.000000</td>\n",
              "    </tr>\n",
              "    <tr>\n",
              "      <th>max</th>\n",
              "      <td>82.000000</td>\n",
              "      <td>1.000000</td>\n",
              "      <td>1.000000</td>\n",
              "      <td>271.740000</td>\n",
              "      <td>48.900000</td>\n",
              "      <td>1.000000</td>\n",
              "    </tr>\n",
              "  </tbody>\n",
              "</table>\n",
              "</div>\n",
              "      <button class=\"colab-df-convert\" onclick=\"convertToInteractive('df-c805110d-466f-4f9d-94c1-1dd9e4a07e97')\"\n",
              "              title=\"Convert this dataframe to an interactive table.\"\n",
              "              style=\"display:none;\">\n",
              "        \n",
              "  <svg xmlns=\"http://www.w3.org/2000/svg\" height=\"24px\"viewBox=\"0 0 24 24\"\n",
              "       width=\"24px\">\n",
              "    <path d=\"M0 0h24v24H0V0z\" fill=\"none\"/>\n",
              "    <path d=\"M18.56 5.44l.94 2.06.94-2.06 2.06-.94-2.06-.94-.94-2.06-.94 2.06-2.06.94zm-11 1L8.5 8.5l.94-2.06 2.06-.94-2.06-.94L8.5 2.5l-.94 2.06-2.06.94zm10 10l.94 2.06.94-2.06 2.06-.94-2.06-.94-.94-2.06-.94 2.06-2.06.94z\"/><path d=\"M17.41 7.96l-1.37-1.37c-.4-.4-.92-.59-1.43-.59-.52 0-1.04.2-1.43.59L10.3 9.45l-7.72 7.72c-.78.78-.78 2.05 0 2.83L4 21.41c.39.39.9.59 1.41.59.51 0 1.02-.2 1.41-.59l7.78-7.78 2.81-2.81c.8-.78.8-2.07 0-2.86zM5.41 20L4 18.59l7.72-7.72 1.47 1.35L5.41 20z\"/>\n",
              "  </svg>\n",
              "      </button>\n",
              "      \n",
              "  <style>\n",
              "    .colab-df-container {\n",
              "      display:flex;\n",
              "      flex-wrap:wrap;\n",
              "      gap: 12px;\n",
              "    }\n",
              "\n",
              "    .colab-df-convert {\n",
              "      background-color: #E8F0FE;\n",
              "      border: none;\n",
              "      border-radius: 50%;\n",
              "      cursor: pointer;\n",
              "      display: none;\n",
              "      fill: #1967D2;\n",
              "      height: 32px;\n",
              "      padding: 0 0 0 0;\n",
              "      width: 32px;\n",
              "    }\n",
              "\n",
              "    .colab-df-convert:hover {\n",
              "      background-color: #E2EBFA;\n",
              "      box-shadow: 0px 1px 2px rgba(60, 64, 67, 0.3), 0px 1px 3px 1px rgba(60, 64, 67, 0.15);\n",
              "      fill: #174EA6;\n",
              "    }\n",
              "\n",
              "    [theme=dark] .colab-df-convert {\n",
              "      background-color: #3B4455;\n",
              "      fill: #D2E3FC;\n",
              "    }\n",
              "\n",
              "    [theme=dark] .colab-df-convert:hover {\n",
              "      background-color: #434B5C;\n",
              "      box-shadow: 0px 1px 3px 1px rgba(0, 0, 0, 0.15);\n",
              "      filter: drop-shadow(0px 1px 2px rgba(0, 0, 0, 0.3));\n",
              "      fill: #FFFFFF;\n",
              "    }\n",
              "  </style>\n",
              "\n",
              "      <script>\n",
              "        const buttonEl =\n",
              "          document.querySelector('#df-c805110d-466f-4f9d-94c1-1dd9e4a07e97 button.colab-df-convert');\n",
              "        buttonEl.style.display =\n",
              "          google.colab.kernel.accessAllowed ? 'block' : 'none';\n",
              "\n",
              "        async function convertToInteractive(key) {\n",
              "          const element = document.querySelector('#df-c805110d-466f-4f9d-94c1-1dd9e4a07e97');\n",
              "          const dataTable =\n",
              "            await google.colab.kernel.invokeFunction('convertToInteractive',\n",
              "                                                     [key], {});\n",
              "          if (!dataTable) return;\n",
              "\n",
              "          const docLinkHtml = 'Like what you see? Visit the ' +\n",
              "            '<a target=\"_blank\" href=https://colab.research.google.com/notebooks/data_table.ipynb>data table notebook</a>'\n",
              "            + ' to learn more about interactive tables.';\n",
              "          element.innerHTML = '';\n",
              "          dataTable['output_type'] = 'display_data';\n",
              "          await google.colab.output.renderOutput(dataTable, element);\n",
              "          const docLink = document.createElement('div');\n",
              "          docLink.innerHTML = docLinkHtml;\n",
              "          element.appendChild(docLink);\n",
              "        }\n",
              "      </script>\n",
              "    </div>\n",
              "  </div>\n",
              "  "
            ]
          },
          "metadata": {},
          "execution_count": 49
        }
      ]
    },
    {
      "cell_type": "code",
      "source": [
        "#Let's explore categorical columns from data\n",
        "print('Gender: {}'.format(data['gender'].unique()))\n",
        "print('ever_married: {}'.format(data['ever_married'].unique()))\n",
        "print('work_type: {}'.format(data['work_type'].unique()))\n",
        "print('Residential_type: {}'.format(data['Residence_type'].unique()))\n",
        "print('smoking_status: {}'.format(data['smoking_status'].unique()))"
      ],
      "metadata": {
        "colab": {
          "base_uri": "https://localhost:8080/"
        },
        "id": "DuldIxTAJzql",
        "outputId": "d62f4b00-ff86-45ae-a7d7-7e6c04506de0"
      },
      "execution_count": null,
      "outputs": [
        {
          "output_type": "stream",
          "name": "stdout",
          "text": [
            "Gender: ['Male' 'Female']\n",
            "ever_married: ['Yes' 'No']\n",
            "work_type: ['Private' 'Self-employed' 'Govt_job' 'children']\n",
            "Residential_type: ['Urban' 'Rural']\n",
            "smoking_status: ['formerly smoked' 'never smoked' 'smokes' 'Unknown']\n"
          ]
        }
      ]
    },
    {
      "cell_type": "code",
      "source": [
        "mno.bar(data.drop('stroke', axis='columns'))"
      ],
      "metadata": {
        "colab": {
          "base_uri": "https://localhost:8080/",
          "height": 434
        },
        "id": "HAuf8JuiL80H",
        "outputId": "ec12f7fb-f12a-4ac4-9870-323f84f2f21b"
      },
      "execution_count": null,
      "outputs": [
        {
          "output_type": "execute_result",
          "data": {
            "text/plain": [
              "<matplotlib.axes._subplots.AxesSubplot at 0x7f36df9d22d0>"
            ]
          },
          "metadata": {},
          "execution_count": 51
        },
        {
          "output_type": "display_data",
          "data": {
            "text/plain": [
              "<Figure size 1800x720 with 3 Axes>"
            ],
            "image/png": "[encoded data removed]"
          },
          "metadata": {
            "needs_background": "light"
          }
        }
      ]
    },
    {
      "cell_type": "markdown",
      "source": [
        "# Data Vizualization"
      ],
      "metadata": {
        "id": "hpaY979acWKi"
      }
    },
    {
      "cell_type": "code",
      "source": [
        "gender = data.groupby(data['gender'])['stroke'].sum()\n",
        "gender_df = pd.DataFrame({'labels': gender.index,\n",
        "                          'values': gender.values})\n",
        "\n",
        "sns.barplot(x='labels',y='values',data = gender_df)\n",
        "plt.title(\"Gender Stroke Proportion\")"
      ],
      "metadata": {
        "colab": {
          "base_uri": "https://localhost:8080/",
          "height": 313
        },
        "id": "L-3295ezNmcP",
        "outputId": "e28ef52a-5e64-42fd-9416-5221d5a488c3"
      },
      "execution_count": null,
      "outputs": [
        {
          "output_type": "execute_result",
          "data": {
            "text/plain": [
              "Text(0.5, 1.0, 'Gender Stroke Proportion')"
            ]
          },
          "metadata": {},
          "execution_count": 52
        },
        {
          "output_type": "display_data",
          "data": {
            "text/plain": [
              "<Figure size 432x288 with 1 Axes>"
            ],
            "image/png": "[encoded data removed]"
          },
          "metadata": {
            "needs_background": "light"
          }
        }
      ]
    },
    {
      "cell_type": "code",
      "source": [
        "work_type = data.groupby(data['work_type'])['stroke'].sum()\n",
        "worktype_df = pd.DataFrame({'labels': work_type.index,\n",
        "                          'values': work_type.values})\n",
        "\n",
        "colors = ( \"orange\", \"cyan\", \"brown\",\n",
        "          \"grey\")\n",
        "fig1, ax1 = plt.subplots()\n",
        "explode = (0.1, 0.2, 0.1, 0.1)\n",
        "\n",
        "ax1.pie(worktype_df['values'], colors = colors, explode=explode, labels=worktype_df['labels'],autopct='%1.1f%%',\n",
        "        shadow=True, startangle=90)\n",
        "plt.title(\"Stroke Proportion by work-type\")\n",
        "\n",
        "plt.show()"
      ],
      "metadata": {
        "colab": {
          "base_uri": "https://localhost:8080/",
          "height": 264
        },
        "id": "1RLNHco6wTzs",
        "outputId": "8203e584-696c-4b53-e3ec-6fd72404b9bf"
      },
      "execution_count": null,
      "outputs": [
        {
          "output_type": "display_data",
          "data": {
            "text/plain": [
              "<Figure size 432x288 with 1 Axes>"
            ],
            "image/png": "[encoded data removed]"
          },
          "metadata": {}
        }
      ]
    },
    {
      "cell_type": "code",
      "source": [
        "smoke = data.groupby(data['smoking_status'])['stroke'].sum()\n",
        "df_smoke = pd.DataFrame({'labels': smoke.index,\n",
        "                   'values': smoke.values\n",
        "                  })\n",
        "\n",
        "colors = ( \"orange\", \"cyan\", \"brown\",\n",
        "          \"grey\")\n",
        "fig1, ax1 = plt.subplots()\n",
        "explode = (0.1, 0.2, 0.1, 0.1)\n",
        "\n",
        "ax1.pie(df_smoke['values'], colors = colors, explode=explode, labels=df_smoke['labels'],autopct='%1.1f%%',\n",
        "        shadow=True, startangle=90)\n",
        "plt.title(\"Stroke Proportion by SmokeStatus\")\n",
        "\n",
        "plt.show()"
      ],
      "metadata": {
        "colab": {
          "base_uri": "https://localhost:8080/",
          "height": 264
        },
        "id": "RRy0fy-KqaZ4",
        "outputId": "165a9448-98d9-4859-e189-c46a6619901b"
      },
      "execution_count": null,
      "outputs": [
        {
          "output_type": "display_data",
          "data": {
            "text/plain": [
              "<Figure size 432x288 with 1 Axes>"
            ],
            "image/png": "[encoded data removed]"
          },
          "metadata": {}
        }
      ]
    },
    {
      "cell_type": "code",
      "source": [
        "Residence = data.groupby(data['Residence_type'])['stroke'].sum()\n",
        "df_Residence = pd.DataFrame({'labels': Residence.index,\n",
        "                   'values': Residence.values\n",
        "                  })\n",
        "\n",
        "fig1, ax1 = plt.subplots()\n",
        "ax1.bar(x = df_Residence['labels'], height = df_Residence['values'])\n",
        "plt.title('Stroke Proportion by residencial area')\n",
        "plt.show()"
      ],
      "metadata": {
        "colab": {
          "base_uri": "https://localhost:8080/",
          "height": 281
        },
        "id": "bdTl3-AhsJ6J",
        "outputId": "c7bc55e1-ae9d-48d5-c396-56fb072fd8a1"
      },
      "execution_count": null,
      "outputs": [
        {
          "output_type": "display_data",
          "data": {
            "text/plain": [
              "<Figure size 432x288 with 1 Axes>"
            ],
            "image/png": "[encoded data removed]"
          },
          "metadata": {
            "needs_background": "light"
          }
        }
      ]
    },
    {
      "cell_type": "code",
      "source": [
        "Married = data.groupby(data['ever_married'])['stroke'].sum()\n",
        "df_Married = pd.DataFrame({'labels': Married.index,\n",
        "                   'values': Married.values\n",
        "                  })\n",
        "\n",
        "colors = ( \"orange\", \"cyan\")\n",
        "fig1, ax1 = plt.subplots()\n",
        "explode = (0.1, 0.2)\n",
        "\n",
        "ax1.pie(df_Married['values'], colors = colors, explode=explode, labels=df_Married['labels'],autopct='%1.1f%%',\n",
        "        shadow=True, startangle=90)\n",
        "plt.title(\"Stroke Proportion by MaritalStatus\")\n",
        "\n",
        "plt.show()"
      ],
      "metadata": {
        "colab": {
          "base_uri": "https://localhost:8080/",
          "height": 266
        },
        "id": "fDjRU20rtK7m",
        "outputId": "1e44dc57-b63c-4e30-a5fa-8c23148b44a1"
      },
      "execution_count": null,
      "outputs": [
        {
          "output_type": "display_data",
          "data": {
            "text/plain": [
              "<Figure size 432x288 with 1 Axes>"
            ],
            "image/png": "[encoded data removed]"
          },
          "metadata": {}
        }
      ]
    },
    {
      "cell_type": "code",
      "source": [
        "stroke = data.loc[data['stroke']== 1].reset_index()\n",
        "\n",
        "stroke[\"male_age\"]=stroke[stroke[\"gender\"]==\"Male\"][\"age\"]\n",
        "stroke[\"female_age\"]=stroke[stroke[\"gender\"]==\"Female\"][\"age\"]\n",
        "\n",
        "sns.histplot(\n",
        "    stroke,\n",
        "    x = 'age',\n",
        "    hue = 'gender'\n",
        ")\n",
        "plt.title('Stroke Ages')"
      ],
      "metadata": {
        "colab": {
          "base_uri": "https://localhost:8080/",
          "height": 313
        },
        "id": "yvM68_Dat_Uj",
        "outputId": "bbcbcf03-610a-4731-ad1e-8f27f2ce9148"
      },
      "execution_count": null,
      "outputs": [
        {
          "output_type": "execute_result",
          "data": {
            "text/plain": [
              "Text(0.5, 1.0, 'Stroke Ages')"
            ]
          },
          "metadata": {},
          "execution_count": 57
        },
        {
          "output_type": "display_data",
          "data": {
            "text/plain": [
              "<Figure size 432x288 with 1 Axes>"
            ],
            "image/png": "[encoded data removed]"
          },
          "metadata": {
            "needs_background": "light"
          }
        }
      ]
    },
    {
      "cell_type": "markdown",
      "source": [
        "# Data Pre-processing"
      ],
      "metadata": {
        "id": "id9Y6BvDxwv6"
      }
    },
    {
      "cell_type": "code",
      "source": [
        "#handling categrical values as model only consumes numerical values\n",
        "\n",
        "data['ever_married'] = [0 if i != 'Yes' else 1 for i in data['ever_married']]\n",
        "data['gender'] = [0 if i != 'Female' else 1 for i in data['gender']]\n",
        "\n",
        "data.head()"
      ],
      "metadata": {
        "colab": {
          "base_uri": "https://localhost:8080/",
          "height": 287
        },
        "id": "eIwoVC5oue6W",
        "outputId": "6901fbaf-0068-443c-ae55-2af7f644f1fa"
      },
      "execution_count": null,
      "outputs": [
        {
          "output_type": "execute_result",
          "data": {
            "text/plain": [
              "   gender   age  hypertension  heart_disease  ever_married      work_type  \\\n",
              "0       0  67.0             0              1             1        Private   \n",
              "1       0  80.0             0              1             1        Private   \n",
              "2       1  49.0             0              0             1        Private   \n",
              "3       1  79.0             1              0             1  Self-employed   \n",
              "4       0  81.0             0              0             1        Private   \n",
              "\n",
              "  Residence_type  avg_glucose_level   bmi   smoking_status  stroke  \n",
              "0          Urban             228.69  36.6  formerly smoked       1  \n",
              "1          Rural             105.92  32.5     never smoked       1  \n",
              "2          Urban             171.23  34.4           smokes       1  \n",
              "3          Rural             174.12  24.0     never smoked       1  \n",
              "4          Urban             186.21  29.0  formerly smoked       1  "
            ],
            "text/html": [
              "\n",
              "  <div id=\"df-b8a86939-6813-4e36-a6d7-4890ed70dce5\">\n",
              "    <div class=\"colab-df-container\">\n",
              "      <div>\n",
              "<style scoped>\n",
              "    .dataframe tbody tr th:only-of-type {\n",
              "        vertical-align: middle;\n",
              "    }\n",
              "\n",
              "    .dataframe tbody tr th {\n",
              "        vertical-align: top;\n",
              "    }\n",
              "\n",
              "    .dataframe thead th {\n",
              "        text-align: right;\n",
              "    }\n",
              "</style>\n",
              "<table border=\"1\" class=\"dataframe\">\n",
              "  <thead>\n",
              "    <tr style=\"text-align: right;\">\n",
              "      <th></th>\n",
              "      <th>gender</th>\n",
              "      <th>age</th>\n",
              "      <th>hypertension</th>\n",
              "      <th>heart_disease</th>\n",
              "      <th>ever_married</th>\n",
              "      <th>work_type</th>\n",
              "      <th>Residence_type</th>\n",
              "      <th>avg_glucose_level</th>\n",
              "      <th>bmi</th>\n",
              "      <th>smoking_status</th>\n",
              "      <th>stroke</th>\n",
              "    </tr>\n",
              "  </thead>\n",
              "  <tbody>\n",
              "    <tr>\n",
              "      <th>0</th>\n",
              "      <td>0</td>\n",
              "      <td>67.0</td>\n",
              "      <td>0</td>\n",
              "      <td>1</td>\n",
              "      <td>1</td>\n",
              "      <td>Private</td>\n",
              "      <td>Urban</td>\n",
              "      <td>228.69</td>\n",
              "      <td>36.6</td>\n",
              "      <td>formerly smoked</td>\n",
              "      <td>1</td>\n",
              "    </tr>\n",
              "    <tr>\n",
              "      <th>1</th>\n",
              "      <td>0</td>\n",
              "      <td>80.0</td>\n",
              "      <td>0</td>\n",
              "      <td>1</td>\n",
              "      <td>1</td>\n",
              "      <td>Private</td>\n",
              "      <td>Rural</td>\n",
              "      <td>105.92</td>\n",
              "      <td>32.5</td>\n",
              "      <td>never smoked</td>\n",
              "      <td>1</td>\n",
              "    </tr>\n",
              "    <tr>\n",
              "      <th>2</th>\n",
              "      <td>1</td>\n",
              "      <td>49.0</td>\n",
              "      <td>0</td>\n",
              "      <td>0</td>\n",
              "      <td>1</td>\n",
              "      <td>Private</td>\n",
              "      <td>Urban</td>\n",
              "      <td>171.23</td>\n",
              "      <td>34.4</td>\n",
              "      <td>smokes</td>\n",
              "      <td>1</td>\n",
              "    </tr>\n",
              "    <tr>\n",
              "      <th>3</th>\n",
              "      <td>1</td>\n",
              "      <td>79.0</td>\n",
              "      <td>1</td>\n",
              "      <td>0</td>\n",
              "      <td>1</td>\n",
              "      <td>Self-employed</td>\n",
              "      <td>Rural</td>\n",
              "      <td>174.12</td>\n",
              "      <td>24.0</td>\n",
              "      <td>never smoked</td>\n",
              "      <td>1</td>\n",
              "    </tr>\n",
              "    <tr>\n",
              "      <th>4</th>\n",
              "      <td>0</td>\n",
              "      <td>81.0</td>\n",
              "      <td>0</td>\n",
              "      <td>0</td>\n",
              "      <td>1</td>\n",
              "      <td>Private</td>\n",
              "      <td>Urban</td>\n",
              "      <td>186.21</td>\n",
              "      <td>29.0</td>\n",
              "      <td>formerly smoked</td>\n",
              "      <td>1</td>\n",
              "    </tr>\n",
              "  </tbody>\n",
              "</table>\n",
              "</div>\n",
              "      <button class=\"colab-df-convert\" onclick=\"convertToInteractive('df-b8a86939-6813-4e36-a6d7-4890ed70dce5')\"\n",
              "              title=\"Convert this dataframe to an interactive table.\"\n",
              "              style=\"display:none;\">\n",
              "        \n",
              "  <svg xmlns=\"http://www.w3.org/2000/svg\" height=\"24px\"viewBox=\"0 0 24 24\"\n",
              "       width=\"24px\">\n",
              "    <path d=\"M0 0h24v24H0V0z\" fill=\"none\"/>\n",
              "    <path d=\"M18.56 5.44l.94 2.06.94-2.06 2.06-.94-2.06-.94-.94-2.06-.94 2.06-2.06.94zm-11 1L8.5 8.5l.94-2.06 2.06-.94-2.06-.94L8.5 2.5l-.94 2.06-2.06.94zm10 10l.94 2.06.94-2.06 2.06-.94-2.06-.94-.94-2.06-.94 2.06-2.06.94z\"/><path d=\"M17.41 7.96l-1.37-1.37c-.4-.4-.92-.59-1.43-.59-.52 0-1.04.2-1.43.59L10.3 9.45l-7.72 7.72c-.78.78-.78 2.05 0 2.83L4 21.41c.39.39.9.59 1.41.59.51 0 1.02-.2 1.41-.59l7.78-7.78 2.81-2.81c.8-.78.8-2.07 0-2.86zM5.41 20L4 18.59l7.72-7.72 1.47 1.35L5.41 20z\"/>\n",
              "  </svg>\n",
              "      </button>\n",
              "      \n",
              "  <style>\n",
              "    .colab-df-container {\n",
              "      display:flex;\n",
              "      flex-wrap:wrap;\n",
              "      gap: 12px;\n",
              "    }\n",
              "\n",
              "    .colab-df-convert {\n",
              "      background-color: #E8F0FE;\n",
              "      border: none;\n",
              "      border-radius: 50%;\n",
              "      cursor: pointer;\n",
              "      display: none;\n",
              "      fill: #1967D2;\n",
              "      height: 32px;\n",
              "      padding: 0 0 0 0;\n",
              "      width: 32px;\n",
              "    }\n",
              "\n",
              "    .colab-df-convert:hover {\n",
              "      background-color: #E2EBFA;\n",
              "      box-shadow: 0px 1px 2px rgba(60, 64, 67, 0.3), 0px 1px 3px 1px rgba(60, 64, 67, 0.15);\n",
              "      fill: #174EA6;\n",
              "    }\n",
              "\n",
              "    [theme=dark] .colab-df-convert {\n",
              "      background-color: #3B4455;\n",
              "      fill: #D2E3FC;\n",
              "    }\n",
              "\n",
              "    [theme=dark] .colab-df-convert:hover {\n",
              "      background-color: #434B5C;\n",
              "      box-shadow: 0px 1px 3px 1px rgba(0, 0, 0, 0.15);\n",
              "      filter: drop-shadow(0px 1px 2px rgba(0, 0, 0, 0.3));\n",
              "      fill: #FFFFFF;\n",
              "    }\n",
              "  </style>\n",
              "\n",
              "      <script>\n",
              "        const buttonEl =\n",
              "          document.querySelector('#df-b8a86939-6813-4e36-a6d7-4890ed70dce5 button.colab-df-convert');\n",
              "        buttonEl.style.display =\n",
              "          google.colab.kernel.accessAllowed ? 'block' : 'none';\n",
              "\n",
              "        async function convertToInteractive(key) {\n",
              "          const element = document.querySelector('#df-b8a86939-6813-4e36-a6d7-4890ed70dce5');\n",
              "          const dataTable =\n",
              "            await google.colab.kernel.invokeFunction('convertToInteractive',\n",
              "                                                     [key], {});\n",
              "          if (!dataTable) return;\n",
              "\n",
              "          const docLinkHtml = 'Like what you see? Visit the ' +\n",
              "            '<a target=\"_blank\" href=https://colab.research.google.com/notebooks/data_table.ipynb>data table notebook</a>'\n",
              "            + ' to learn more about interactive tables.';\n",
              "          element.innerHTML = '';\n",
              "          dataTable['output_type'] = 'display_data';\n",
              "          await google.colab.output.renderOutput(dataTable, element);\n",
              "          const docLink = document.createElement('div');\n",
              "          docLink.innerHTML = docLinkHtml;\n",
              "          element.appendChild(docLink);\n",
              "        }\n",
              "      </script>\n",
              "    </div>\n",
              "  </div>\n",
              "  "
            ]
          },
          "metadata": {},
          "execution_count": 58
        }
      ]
    },
    {
      "cell_type": "code",
      "source": [
        "#there are still some more categorical values where we try to get dummies or numerical value for each category\n",
        "data = pd.get_dummies(data, columns = ['work_type', 'Residence_type','smoking_status'])\n",
        "\n",
        "data.sample(5)"
      ],
      "metadata": {
        "colab": {
          "base_uri": "https://localhost:8080/",
          "height": 287
        },
        "id": "IrutV-u0yZYD",
        "outputId": "ac7d674b-0963-4c94-865f-da563cac1ab3"
      },
      "execution_count": null,
      "outputs": [
        {
          "output_type": "execute_result",
          "data": {
            "text/plain": [
              "      gender   age  hypertension  heart_disease  ever_married  \\\n",
              "946        0  75.0             0              0             1   \n",
              "36         0  82.0             0              1             1   \n",
              "1245       1  40.0             0              0             0   \n",
              "471        1  31.0             0              0             1   \n",
              "4373       1  65.0             0              0             1   \n",
              "\n",
              "      avg_glucose_level   bmi  stroke  work_type_Govt_job  work_type_Private  \\\n",
              "946              105.63  28.2       0                   0                  1   \n",
              "36               144.90  26.4       1                   0                  1   \n",
              "1245              78.04  32.4       0                   0                  1   \n",
              "471               80.79  28.7       0                   0                  1   \n",
              "4373              80.42  29.4       0                   0                  0   \n",
              "\n",
              "      work_type_Self-employed  work_type_children  Residence_type_Rural  \\\n",
              "946                         0                   0                     0   \n",
              "36                          0                   0                     0   \n",
              "1245                        0                   0                     0   \n",
              "471                         0                   0                     1   \n",
              "4373                        1                   0                     1   \n",
              "\n",
              "      Residence_type_Urban  smoking_status_Unknown  \\\n",
              "946                      1                       0   \n",
              "36                       1                       0   \n",
              "1245                     1                       0   \n",
              "471                      0                       1   \n",
              "4373                     0                       0   \n",
              "\n",
              "      smoking_status_formerly smoked  smoking_status_never smoked  \\\n",
              "946                                0                            0   \n",
              "36                                 0                            0   \n",
              "1245                               0                            0   \n",
              "471                                0                            0   \n",
              "4373                               1                            0   \n",
              "\n",
              "      smoking_status_smokes  \n",
              "946                       1  \n",
              "36                        1  \n",
              "1245                      1  \n",
              "471                       0  \n",
              "4373                      0  "
            ],
            "text/html": [
              "\n",
              "  <div id=\"df-ce2f8b8c-b8f3-4934-876c-f6dcf27a474e\">\n",
              "    <div class=\"colab-df-container\">\n",
              "      <div>\n",
              "<style scoped>\n",
              "    .dataframe tbody tr th:only-of-type {\n",
              "        vertical-align: middle;\n",
              "    }\n",
              "\n",
              "    .dataframe tbody tr th {\n",
              "        vertical-align: top;\n",
              "    }\n",
              "\n",
              "    .dataframe thead th {\n",
              "        text-align: right;\n",
              "    }\n",
              "</style>\n",
              "<table border=\"1\" class=\"dataframe\">\n",
              "  <thead>\n",
              "    <tr style=\"text-align: right;\">\n",
              "      <th></th>\n",
              "      <th>gender</th>\n",
              "      <th>age</th>\n",
              "      <th>hypertension</th>\n",
              "      <th>heart_disease</th>\n",
              "      <th>ever_married</th>\n",
              "      <th>avg_glucose_level</th>\n",
              "      <th>bmi</th>\n",
              "      <th>stroke</th>\n",
              "      <th>work_type_Govt_job</th>\n",
              "      <th>work_type_Private</th>\n",
              "      <th>work_type_Self-employed</th>\n",
              "      <th>work_type_children</th>\n",
              "      <th>Residence_type_Rural</th>\n",
              "      <th>Residence_type_Urban</th>\n",
              "      <th>smoking_status_Unknown</th>\n",
              "      <th>smoking_status_formerly smoked</th>\n",
              "      <th>smoking_status_never smoked</th>\n",
              "      <th>smoking_status_smokes</th>\n",
              "    </tr>\n",
              "  </thead>\n",
              "  <tbody>\n",
              "    <tr>\n",
              "      <th>946</th>\n",
              "      <td>0</td>\n",
              "      <td>75.0</td>\n",
              "      <td>0</td>\n",
              "      <td>0</td>\n",
              "      <td>1</td>\n",
              "      <td>105.63</td>\n",
              "      <td>28.2</td>\n",
              "      <td>0</td>\n",
              "      <td>0</td>\n",
              "      <td>1</td>\n",
              "      <td>0</td>\n",
              "      <td>0</td>\n",
              "      <td>0</td>\n",
              "      <td>1</td>\n",
              "      <td>0</td>\n",
              "      <td>0</td>\n",
              "      <td>0</td>\n",
              "      <td>1</td>\n",
              "    </tr>\n",
              "    <tr>\n",
              "      <th>36</th>\n",
              "      <td>0</td>\n",
              "      <td>82.0</td>\n",
              "      <td>0</td>\n",
              "      <td>1</td>\n",
              "      <td>1</td>\n",
              "      <td>144.90</td>\n",
              "      <td>26.4</td>\n",
              "      <td>1</td>\n",
              "      <td>0</td>\n",
              "      <td>1</td>\n",
              "      <td>0</td>\n",
              "      <td>0</td>\n",
              "      <td>0</td>\n",
              "      <td>1</td>\n",
              "      <td>0</td>\n",
              "      <td>0</td>\n",
              "      <td>0</td>\n",
              "      <td>1</td>\n",
              "    </tr>\n",
              "    <tr>\n",
              "      <th>1245</th>\n",
              "      <td>1</td>\n",
              "      <td>40.0</td>\n",
              "      <td>0</td>\n",
              "      <td>0</td>\n",
              "      <td>0</td>\n",
              "      <td>78.04</td>\n",
              "      <td>32.4</td>\n",
              "      <td>0</td>\n",
              "      <td>0</td>\n",
              "      <td>1</td>\n",
              "      <td>0</td>\n",
              "      <td>0</td>\n",
              "      <td>0</td>\n",
              "      <td>1</td>\n",
              "      <td>0</td>\n",
              "      <td>0</td>\n",
              "      <td>0</td>\n",
              "      <td>1</td>\n",
              "    </tr>\n",
              "    <tr>\n",
              "      <th>471</th>\n",
              "      <td>1</td>\n",
              "      <td>31.0</td>\n",
              "      <td>0</td>\n",
              "      <td>0</td>\n",
              "      <td>1</td>\n",
              "      <td>80.79</td>\n",
              "      <td>28.7</td>\n",
              "      <td>0</td>\n",
              "      <td>0</td>\n",
              "      <td>1</td>\n",
              "      <td>0</td>\n",
              "      <td>0</td>\n",
              "      <td>1</td>\n",
              "      <td>0</td>\n",
              "      <td>1</td>\n",
              "      <td>0</td>\n",
              "      <td>0</td>\n",
              "      <td>0</td>\n",
              "    </tr>\n",
              "    <tr>\n",
              "      <th>4373</th>\n",
              "      <td>1</td>\n",
              "      <td>65.0</td>\n",
              "      <td>0</td>\n",
              "      <td>0</td>\n",
              "      <td>1</td>\n",
              "      <td>80.42</td>\n",
              "      <td>29.4</td>\n",
              "      <td>0</td>\n",
              "      <td>0</td>\n",
              "      <td>0</td>\n",
              "      <td>1</td>\n",
              "      <td>0</td>\n",
              "      <td>1</td>\n",
              "      <td>0</td>\n",
              "      <td>0</td>\n",
              "      <td>1</td>\n",
              "      <td>0</td>\n",
              "      <td>0</td>\n",
              "    </tr>\n",
              "  </tbody>\n",
              "</table>\n",
              "</div>\n",
              "      <button class=\"colab-df-convert\" onclick=\"convertToInteractive('df-ce2f8b8c-b8f3-4934-876c-f6dcf27a474e')\"\n",
              "              title=\"Convert this dataframe to an interactive table.\"\n",
              "              style=\"display:none;\">\n",
              "        \n",
              "  <svg xmlns=\"http://www.w3.org/2000/svg\" height=\"24px\"viewBox=\"0 0 24 24\"\n",
              "       width=\"24px\">\n",
              "    <path d=\"M0 0h24v24H0V0z\" fill=\"none\"/>\n",
              "    <path d=\"M18.56 5.44l.94 2.06.94-2.06 2.06-.94-2.06-.94-.94-2.06-.94 2.06-2.06.94zm-11 1L8.5 8.5l.94-2.06 2.06-.94-2.06-.94L8.5 2.5l-.94 2.06-2.06.94zm10 10l.94 2.06.94-2.06 2.06-.94-2.06-.94-.94-2.06-.94 2.06-2.06.94z\"/><path d=\"M17.41 7.96l-1.37-1.37c-.4-.4-.92-.59-1.43-.59-.52 0-1.04.2-1.43.59L10.3 9.45l-7.72 7.72c-.78.78-.78 2.05 0 2.83L4 21.41c.39.39.9.59 1.41.59.51 0 1.02-.2 1.41-.59l7.78-7.78 2.81-2.81c.8-.78.8-2.07 0-2.86zM5.41 20L4 18.59l7.72-7.72 1.47 1.35L5.41 20z\"/>\n",
              "  </svg>\n",
              "      </button>\n",
              "      \n",
              "  <style>\n",
              "    .colab-df-container {\n",
              "      display:flex;\n",
              "      flex-wrap:wrap;\n",
              "      gap: 12px;\n",
              "    }\n",
              "\n",
              "    .colab-df-convert {\n",
              "      background-color: #E8F0FE;\n",
              "      border: none;\n",
              "      border-radius: 50%;\n",
              "      cursor: pointer;\n",
              "      display: none;\n",
              "      fill: #1967D2;\n",
              "      height: 32px;\n",
              "      padding: 0 0 0 0;\n",
              "      width: 32px;\n",
              "    }\n",
              "\n",
              "    .colab-df-convert:hover {\n",
              "      background-color: #E2EBFA;\n",
              "      box-shadow: 0px 1px 2px rgba(60, 64, 67, 0.3), 0px 1px 3px 1px rgba(60, 64, 67, 0.15);\n",
              "      fill: #174EA6;\n",
              "    }\n",
              "\n",
              "    [theme=dark] .colab-df-convert {\n",
              "      background-color: #3B4455;\n",
              "      fill: #D2E3FC;\n",
              "    }\n",
              "\n",
              "    [theme=dark] .colab-df-convert:hover {\n",
              "      background-color: #434B5C;\n",
              "      box-shadow: 0px 1px 3px 1px rgba(0, 0, 0, 0.15);\n",
              "      filter: drop-shadow(0px 1px 2px rgba(0, 0, 0, 0.3));\n",
              "      fill: #FFFFFF;\n",
              "    }\n",
              "  </style>\n",
              "\n",
              "      <script>\n",
              "        const buttonEl =\n",
              "          document.querySelector('#df-ce2f8b8c-b8f3-4934-876c-f6dcf27a474e button.colab-df-convert');\n",
              "        buttonEl.style.display =\n",
              "          google.colab.kernel.accessAllowed ? 'block' : 'none';\n",
              "\n",
              "        async function convertToInteractive(key) {\n",
              "          const element = document.querySelector('#df-ce2f8b8c-b8f3-4934-876c-f6dcf27a474e');\n",
              "          const dataTable =\n",
              "            await google.colab.kernel.invokeFunction('convertToInteractive',\n",
              "                                                     [key], {});\n",
              "          if (!dataTable) return;\n",
              "\n",
              "          const docLinkHtml = 'Like what you see? Visit the ' +\n",
              "            '<a target=\"_blank\" href=https://colab.research.google.com/notebooks/data_table.ipynb>data table notebook</a>'\n",
              "            + ' to learn more about interactive tables.';\n",
              "          element.innerHTML = '';\n",
              "          dataTable['output_type'] = 'display_data';\n",
              "          await google.colab.output.renderOutput(dataTable, element);\n",
              "          const docLink = document.createElement('div');\n",
              "          docLink.innerHTML = docLinkHtml;\n",
              "          element.appendChild(docLink);\n",
              "        }\n",
              "      </script>\n",
              "    </div>\n",
              "  </div>\n",
              "  "
            ]
          },
          "metadata": {},
          "execution_count": 59
        }
      ]
    },
    {
      "cell_type": "code",
      "source": [
        "#let's explore for any null values\n",
        "data.isnull().any()"
      ],
      "metadata": {
        "colab": {
          "base_uri": "https://localhost:8080/"
        },
        "id": "XHV-qxRXyzhD",
        "outputId": "06f8ffc3-5c82-4ef7-d863-82b806f63f84"
      },
      "execution_count": null,
      "outputs": [
        {
          "output_type": "execute_result",
          "data": {
            "text/plain": [
              "gender                            False\n",
              "age                               False\n",
              "hypertension                      False\n",
              "heart_disease                     False\n",
              "ever_married                      False\n",
              "avg_glucose_level                 False\n",
              "bmi                               False\n",
              "stroke                            False\n",
              "work_type_Govt_job                False\n",
              "work_type_Private                 False\n",
              "work_type_Self-employed           False\n",
              "work_type_children                False\n",
              "Residence_type_Rural              False\n",
              "Residence_type_Urban              False\n",
              "smoking_status_Unknown            False\n",
              "smoking_status_formerly smoked    False\n",
              "smoking_status_never smoked       False\n",
              "smoking_status_smokes             False\n",
              "dtype: bool"
            ]
          },
          "metadata": {},
          "execution_count": 60
        }
      ]
    },
    {
      "cell_type": "code",
      "source": [
        "#Target value counts\n",
        "data.stroke.value_counts()"
      ],
      "metadata": {
        "colab": {
          "base_uri": "https://localhost:8080/"
        },
        "id": "HGci_MRIy8vj",
        "outputId": "e0c3a7ae-9f40-4f2c-9b46-df20a1e8a2c3"
      },
      "execution_count": null,
      "outputs": [
        {
          "output_type": "execute_result",
          "data": {
            "text/plain": [
              "0    4733\n",
              "1     248\n",
              "Name: stroke, dtype: int64"
            ]
          },
          "metadata": {},
          "execution_count": 61
        }
      ]
    },
    {
      "cell_type": "markdown",
      "source": [
        "# Data Splitting and Model Building"
      ],
      "metadata": {
        "id": "f6szAYI5zF7P"
      }
    },
    {
      "cell_type": "code",
      "source": [
        "# data splitting\n",
        "features = data.drop(['stroke'], axis=1)\n",
        "target = data['stroke']\n",
        "\n",
        "X_train, X_test, y_train, y_test = train_test_split(features, target, test_size=0.33, random_state=42)\n",
        "\n",
        "print('Train Size: {}\\n Test Size: {}'.format((X_train.shape, y_train.shape), (X_test.shape, y_test.shape)))"
      ],
      "metadata": {
        "colab": {
          "base_uri": "https://localhost:8080/"
        },
        "id": "b3t3qy6tzDKS",
        "outputId": "4b53747b-45ff-41e0-befe-744202c4cf08"
      },
      "execution_count": null,
      "outputs": [
        {
          "output_type": "stream",
          "name": "stdout",
          "text": [
            "Train Size: ((3337, 17), (3337,))\n",
            " Test Size: ((1644, 17), (1644,))\n"
          ]
        }
      ]
    },
    {
      "cell_type": "code",
      "source": [
        "'''\n",
        "as the data we have imbalanced target which we need to sample so that the output will never be skewed\n",
        "and our algorithm will able to classify correctly.\n",
        "'''\n",
        "undersample = RandomUnderSampler(sampling_strategy='majority')\n",
        "X_under, y_under = undersample.fit_resample(features, target)\n",
        "print(sorted(Counter(y_under).items()))\n",
        "\n",
        "X_train_rs, X_test_rs, y_train_rs , y_test_rs = train_test_split(X_under,y_under, test_size = 0.33, random_state = 43)\n",
        "X_train_rs.shape, X_test_rs.shape"
      ],
      "metadata": {
        "colab": {
          "base_uri": "https://localhost:8080/"
        },
        "id": "lUkESRN32zsq",
        "outputId": "8811bf21-0c24-4664-fabd-d8018be3de28"
      },
      "execution_count": null,
      "outputs": [
        {
          "output_type": "stream",
          "name": "stdout",
          "text": [
            "[(0, 248), (1, 248)]\n"
          ]
        },
        {
          "output_type": "execute_result",
          "data": {
            "text/plain": [
              "((332, 17), (164, 17))"
            ]
          },
          "metadata": {},
          "execution_count": 63
        }
      ]
    },
    {
      "cell_type": "code",
      "source": [
        "#build, tune and print confusion matrix\n",
        "\n",
        "rfc = RandomForestClassifier()\n",
        "n_estimators = [90,100,115,130, 200]\n",
        "max_depth = range(2,20,1)\n",
        "min_samples_split = range(2,10,1)\n",
        "min_samples_leaf = range(1,10,1)\n",
        "criterion = ['gini']\n",
        "param = dict(n_estimators = n_estimators, max_depth = max_depth,\n",
        "              min_samples_split = min_samples_split,\n",
        "             min_samples_leaf = min_samples_leaf,\n",
        "             criterion = criterion)\n",
        "rfc_random = RandomizedSearchCV(estimator = rfc, param_distributions = param, cv = 5, verbose=2, random_state=42)\n",
        "rfc_random.fit(X_train_rs, y_train_rs)\n",
        "\n",
        "y_pred_rfc_random = rfc_random.predict(X_test_rs)\n",
        "print(confusion_matrix(y_test_rs,y_pred_rfc_random))\n",
        "print('The accuracy is: {:.4f}'.format(accuracy_score(y_test_rs,y_pred_rfc_random)))\n",
        "print('The classification report is:\\n{:}'.format(classification_report(y_test_rs,y_pred_rfc_random)))"
      ],
      "metadata": {
        "colab": {
          "base_uri": "https://localhost:8080/"
        },
        "id": "B-AjxUCh1g6C",
        "outputId": "a9d84c0e-30ae-4520-cbad-a6b13fcd0c0b"
      },
      "execution_count": null,
      "outputs": [
        {
          "output_type": "stream",
          "name": "stdout",
          "text": [
            "Fitting 5 folds for each of 10 candidates, totalling 50 fits\n",
            "[CV] END criterion=gini, max_depth=4, min_samples_leaf=4, min_samples_split=6, n_estimators=90; total time=   0.1s\n",
            "[CV] END criterion=gini, max_depth=4, min_samples_leaf=4, min_samples_split=6, n_estimators=90; total time=   0.2s\n",
            "[CV] END criterion=gini, max_depth=4, min_samples_leaf=4, min_samples_split=6, n_estimators=90; total time=   0.1s\n",
            "[CV] END criterion=gini, max_depth=4, min_samples_leaf=4, min_samples_split=6, n_estimators=90; total time=   0.1s\n",
            "[CV] END criterion=gini, max_depth=4, min_samples_leaf=4, min_samples_split=6, n_estimators=90; total time=   0.1s\n",
            "[CV] END criterion=gini, max_depth=16, min_samples_leaf=9, min_samples_split=8, n_estimators=90; total time=   0.2s\n",
            "[CV] END criterion=gini, max_depth=16, min_samples_leaf=9, min_samples_split=8, n_estimators=90; total time=   0.1s\n",
            "[CV] END criterion=gini, max_depth=16, min_samples_leaf=9, min_samples_split=8, n_estimators=90; total time=   0.1s\n",
            "[CV] END criterion=gini, max_depth=16, min_samples_leaf=9, min_samples_split=8, n_estimators=90; total time=   0.1s\n",
            "[CV] END criterion=gini, max_depth=16, min_samples_leaf=9, min_samples_split=8, n_estimators=90; total time=   0.1s\n",
            "[CV] END criterion=gini, max_depth=16, min_samples_leaf=5, min_samples_split=7, n_estimators=100; total time=   0.2s\n",
            "[CV] END criterion=gini, max_depth=16, min_samples_leaf=5, min_samples_split=7, n_estimators=100; total time=   0.2s\n",
            "[CV] END criterion=gini, max_depth=16, min_samples_leaf=5, min_samples_split=7, n_estimators=100; total time=   0.2s\n",
            "[CV] END criterion=gini, max_depth=16, min_samples_leaf=5, min_samples_split=7, n_estimators=100; total time=   0.2s\n",
            "[CV] END criterion=gini, max_depth=16, min_samples_leaf=5, min_samples_split=7, n_estimators=100; total time=   0.4s\n",
            "[CV] END criterion=gini, max_depth=16, min_samples_leaf=4, min_samples_split=8, n_estimators=100; total time=   0.4s\n",
            "[CV] END criterion=gini, max_depth=16, min_samples_leaf=4, min_samples_split=8, n_estimators=100; total time=   0.3s\n",
            "[CV] END criterion=gini, max_depth=16, min_samples_leaf=4, min_samples_split=8, n_estimators=100; total time=   0.3s\n",
            "[CV] END criterion=gini, max_depth=16, min_samples_leaf=4, min_samples_split=8, n_estimators=100; total time=   0.3s\n",
            "[CV] END criterion=gini, max_depth=16, min_samples_leaf=4, min_samples_split=8, n_estimators=100; total time=   0.3s\n",
            "[CV] END criterion=gini, max_depth=12, min_samples_leaf=5, min_samples_split=4, n_estimators=115; total time=   0.4s\n",
            "[CV] END criterion=gini, max_depth=12, min_samples_leaf=5, min_samples_split=4, n_estimators=115; total time=   0.2s\n",
            "[CV] END criterion=gini, max_depth=12, min_samples_leaf=5, min_samples_split=4, n_estimators=115; total time=   0.2s\n",
            "[CV] END criterion=gini, max_depth=12, min_samples_leaf=5, min_samples_split=4, n_estimators=115; total time=   0.2s\n",
            "[CV] END criterion=gini, max_depth=12, min_samples_leaf=5, min_samples_split=4, n_estimators=115; total time=   0.2s\n",
            "[CV] END criterion=gini, max_depth=10, min_samples_leaf=6, min_samples_split=4, n_estimators=115; total time=   0.3s\n",
            "[CV] END criterion=gini, max_depth=10, min_samples_leaf=6, min_samples_split=4, n_estimators=115; total time=   1.0s\n",
            "[CV] END criterion=gini, max_depth=10, min_samples_leaf=6, min_samples_split=4, n_estimators=115; total time=   0.5s\n",
            "[CV] END criterion=gini, max_depth=10, min_samples_leaf=6, min_samples_split=4, n_estimators=115; total time=   0.2s\n",
            "[CV] END criterion=gini, max_depth=10, min_samples_leaf=6, min_samples_split=4, n_estimators=115; total time=   0.2s\n",
            "[CV] END criterion=gini, max_depth=17, min_samples_leaf=9, min_samples_split=4, n_estimators=200; total time=   0.3s\n",
            "[CV] END criterion=gini, max_depth=17, min_samples_leaf=9, min_samples_split=4, n_estimators=200; total time=   0.3s\n",
            "[CV] END criterion=gini, max_depth=17, min_samples_leaf=9, min_samples_split=4, n_estimators=200; total time=   0.3s\n",
            "[CV] END criterion=gini, max_depth=17, min_samples_leaf=9, min_samples_split=4, n_estimators=200; total time=   0.3s\n",
            "[CV] END criterion=gini, max_depth=17, min_samples_leaf=9, min_samples_split=4, n_estimators=200; total time=   0.3s\n",
            "[CV] END criterion=gini, max_depth=19, min_samples_leaf=4, min_samples_split=7, n_estimators=90; total time=   0.1s\n",
            "[CV] END criterion=gini, max_depth=19, min_samples_leaf=4, min_samples_split=7, n_estimators=90; total time=   0.2s\n",
            "[CV] END criterion=gini, max_depth=19, min_samples_leaf=4, min_samples_split=7, n_estimators=90; total time=   0.2s\n",
            "[CV] END criterion=gini, max_depth=19, min_samples_leaf=4, min_samples_split=7, n_estimators=90; total time=   0.1s\n",
            "[CV] END criterion=gini, max_depth=19, min_samples_leaf=4, min_samples_split=7, n_estimators=90; total time=   0.2s\n",
            "[CV] END criterion=gini, max_depth=3, min_samples_leaf=3, min_samples_split=7, n_estimators=100; total time=   0.2s\n",
            "[CV] END criterion=gini, max_depth=3, min_samples_leaf=3, min_samples_split=7, n_estimators=100; total time=   0.2s\n",
            "[CV] END criterion=gini, max_depth=3, min_samples_leaf=3, min_samples_split=7, n_estimators=100; total time=   0.2s\n",
            "[CV] END criterion=gini, max_depth=3, min_samples_leaf=3, min_samples_split=7, n_estimators=100; total time=   0.2s\n",
            "[CV] END criterion=gini, max_depth=3, min_samples_leaf=3, min_samples_split=7, n_estimators=100; total time=   0.2s\n",
            "[CV] END criterion=gini, max_depth=16, min_samples_leaf=8, min_samples_split=4, n_estimators=200; total time=   0.3s\n",
            "[CV] END criterion=gini, max_depth=16, min_samples_leaf=8, min_samples_split=4, n_estimators=200; total time=   0.3s\n",
            "[CV] END criterion=gini, max_depth=16, min_samples_leaf=8, min_samples_split=4, n_estimators=200; total time=   0.3s\n",
            "[CV] END criterion=gini, max_depth=16, min_samples_leaf=8, min_samples_split=4, n_estimators=200; total time=   0.3s\n",
            "[CV] END criterion=gini, max_depth=16, min_samples_leaf=8, min_samples_split=4, n_estimators=200; total time=   0.5s\n",
            "[[65 18]\n",
            " [ 7 74]]\n",
            "The accuracy is: 0.8476\n",
            "The classification report is:\n",
            "              precision    recall  f1-score   support\n",
            "\n",
            "           0       0.90      0.78      0.84        83\n",
            "           1       0.80      0.91      0.86        81\n",
            "\n",
            "    accuracy                           0.85       164\n",
            "   macro avg       0.85      0.85      0.85       164\n",
            "weighted avg       0.85      0.85      0.85       164\n",
            "\n"
          ]
        }
      ]
    },
    {
      "cell_type": "markdown",
      "source": [
        "# Vizualise Out Predictions"
      ],
      "metadata": {
        "id": "V-MIQlTW47vi"
      }
    },
    {
      "cell_type": "code",
      "source": [
        "ax = sns.heatmap(confusion_matrix(y_test_rs,y_pred_rfc_random),\n",
        "            annot = True, cmap='Blues')\n",
        "\n",
        "ax.set_title('Confusion Matrix of Predictions\\n\\n');\n",
        "ax.set_xlabel('\\nPredicted Values')\n",
        "ax.set_ylabel('Actual Values ');\n",
        "\n",
        "ax.xaxis.set_ticklabels(['False','True'])\n",
        "ax.yaxis.set_ticklabels(['False','True'])\n",
        "\n",
        "plt.show()"
      ],
      "metadata": {
        "colab": {
          "base_uri": "https://localhost:8080/",
          "height": 337
        },
        "id": "DjnOtf2H46xi",
        "outputId": "720b860e-3147-407c-ee8b-d68465b7e6ca"
      },
      "execution_count": null,
      "outputs": [
        {
          "output_type": "display_data",
          "data": {
            "text/plain": [
              "<Figure size 432x288 with 2 Axes>"
            ],
            "image/png": "[encoded data removed]"
          },
          "metadata": {
            "needs_background": "light"
          }
        }
      ]
    },
    {
      "cell_type": "markdown",
      "source": [
        "From the above confusion matrix we can infer that among *72* False values we have predicted *65* properly. Similarly among *92* True values we have Predicted *74* correctly."
      ],
      "metadata": {
        "id": "pY_vZH3Y6CGM"
      }
    },
    {
      "cell_type": "code",
      "source": [],
      "metadata": {
        "id": "hQmeR_UP5rOg"
      },
      "execution_count": null,
      "outputs": []
    }
  ]
}